{
 "cells": [
  {
   "cell_type": "markdown",
   "metadata": {},
   "source": [
    "Here is a \"Hello World\" TensorFlow program:"
   ]
  },
  {
   "cell_type": "code",
   "execution_count": 7,
   "metadata": {},
   "outputs": [],
   "source": [
    "import os\n",
    "\n",
    "os.environ[\"TF_CPP_MIN_LOG_LEVEL\"]=\"3\""
   ]
  },
  {
   "cell_type": "code",
   "execution_count": 9,
   "metadata": {},
   "outputs": [
    {
     "name": "stdout",
     "output_type": "stream",
     "text": [
      "b'Hello, world'\n"
     ]
    }
   ],
   "source": [
    "import tensorflow as tf\n",
    "\n",
    "c = tf.constant('Hello, world')\n",
    "\n",
    "with tf.Session() as sess:\n",
    "    print(sess.run(c))"
   ]
  },
  {
   "cell_type": "markdown",
   "metadata": {},
   "source": [
    "# TensorFlow Programming Concepts"
   ]
  },
  {
   "cell_type": "markdown",
   "metadata": {},
   "source": [
    "**Learning Objectives:**\n",
    "  * Learn the basics of the TensorFlow programming model, focusing on the following concepts:\n",
    "    * tensors\n",
    "    * operations\n",
    "    * graphs\n",
    "    * sessions\n",
    "  * Build a simple TensorFlow program that creates a default graph, and a session that runs the graph"
   ]
  },
  {
   "cell_type": "markdown",
   "metadata": {},
   "source": [
    "## Overview of Concepts\n",
    "\n",
    "TensorFlow gets its name from **tensors**, which are arrays of arbitrary dimensionality. Using TensorFlow, you can manipulate tensors with a very high number of dimensions. That said, most of the time you will work with one or more of the following low-dimensional tensors:\n",
    "\n",
    "  * A **scalar** is a 0-d array (a 0th-order tensor).  For example, `\"Howdy\"` or `5`\n",
    "  * A **vector** is a 1-d array (a 1st-order tensor).  For example, `[2, 3, 5, 7, 11]` or `[5]`\n",
    "  * A **matrix** is a 2-d array (a 2nd-order tensor).  For example, `[[3.1, 8.2, 5.9][4.3, -2.7, 6.5]]`\n",
    "\n",
    "TensorFlow **operations** create, destroy, and manipulate tensors.  Most of the lines of code in a typical TensorFlow program are operations.\n",
    "\n",
    "A TensorFlow **graph** (also known as a **computational graph** or a **dataflow graph**) is, yes, a graph data structure.  A graph's nodes are operations (in TensorFlow, every operation is associated with a graph).  Many TensorFlow programs consist of a single graph, but TensorFlow programs may optionally create multiple graphs. A graph's nodes are operations; a graph's edges are tensors. Tensors flow through the graph, manipulated at each node by an operation. The output tensor of one operation often becomes the input tensor to a subsequent operation. TensorFlow implements a **lazy execution model,** meaning that nodes are only computed when needed, based on the needs of associated nodes.\n",
    "\n",
    "Tensors can be stored in the graph as **constants** or **variables**. As you might guess, constants hold tensors whose values can't change, while variables hold tensors whose values can change. However, what you may not have guessed is that constants and variables are just more operations in the graph. A constant is an operation that always returns the same tensor value. A variable is an operation that will return whichever tensor has been assigned to it.\n",
    "\n",
    "To define a constant, use the `tf.constant` operator and pass in its value. For example:\n",
    "\n",
    "```\n",
    "  x = tf.constant(5.2)\n",
    "```\n",
    "\n",
    "Similarly, you can create a variable like this:\n",
    "\n",
    "```\n",
    "  y = tf.Variable([5])\n",
    "```\n",
    "\n",
    "Or you can create the variable first and then subsequently assign a value like this (note that you always have to specify a default value):\n",
    "\n",
    "```\n",
    "  y = tf.Variable([0])\n",
    "  y = y.assign([5])\n",
    "```\n",
    "\n",
    "Once you've defined some constants or variables, you can combine them with other operations like `tf.add`. When you evaluate the `tf.add` operation, it will call your `tf.constant` or `tf.Variable` operations to get their values and then return a new tensor with the sum of those values.\n",
    "\n",
    "Graphs must run within a TensorFlow **session**, which holds the state for the graph(s) it runs:\n",
    "\n",
    "```\n",
    "with tf.Session() as sess:\n",
    "  initialization = tf.global_variables_initializer()\n",
    "  print y.eval()\n",
    "```\n",
    "\n",
    "When working with `tf.Variable`s, you must explicitly initialize them by calling `tf.global_variables_initializer` at the start of your session, as shown above.\n",
    "\n",
    "**Note:** A session can distribute graph execution across multiple machines (assuming the program is run on some distributed computation framework). For more information, see [Distributed TensorFlow](https://www.tensorflow.org/deploy/distributed).\n",
    "\n",
    "### Summary\n",
    "\n",
    "TensorFlow programming is essentially a two-step process:\n",
    "\n",
    "  1. Assemble constants, variables, and operations into a graph.\n",
    "  2. Evaluate those constants, variables and operations within a session.\n"
   ]
  },
  {
   "cell_type": "markdown",
   "metadata": {},
   "source": [
    "### Summary\n",
    "TensorFlow programming is essentially a two-step process:\n",
    "\n",
    "1. Assemble constants, variables, and operations into a graph.\n",
    "2. Evaluate those constants, variables and operations within a session."
   ]
  },
  {
   "cell_type": "code",
   "execution_count": 10,
   "metadata": {},
   "outputs": [
    {
     "name": "stdout",
     "output_type": "stream",
     "text": [
      "13\n"
     ]
    }
   ],
   "source": [
    "import tensorflow as tf\n",
    "\n",
    "# Create a graph.\n",
    "g = tf.Graph()\n",
    "\n",
    "# Establish the graph as the \"default\" graph.\n",
    "with g.as_default():\n",
    "    # Assemble a graph consisting of the following three operations:\n",
    "    #   * Two tf.constant operations to create the operands.\n",
    "    #   * One tf.add operation to add the two operands.\n",
    "    x = tf.constant(8, name=\"x_const\")\n",
    "    y = tf.constant(5, name=\"y_const\")\n",
    "    my_sum = tf.add(x, y, name=\"x_y_sum\")\n",
    "\n",
    "\n",
    "    # Now create a session.\n",
    "    # The session will run the default graph.\n",
    "    with tf.Session() as sess:\n",
    "        print(my_sum.eval())"
   ]
  },
  {
   "cell_type": "markdown",
   "metadata": {},
   "source": [
    "# Creating and Manipulating Tensors"
   ]
  },
  {
   "cell_type": "markdown",
   "metadata": {},
   "source": [
    "**Learning Objectives:**\n",
    "  * Initialize and assign TensorFlow `Variable`s\n",
    "  * Create and manipulate tensors\n",
    "  * Refresh your memory about addition and multiplication in linear algebra (consult an introduction to matrix [addition](https://en.wikipedia.org/wiki/Matrix_addition) and [multiplication](https://en.wikipedia.org/wiki/Matrix_multiplication) if these topics are new to you)\n",
    "  * Familiarize yourself with basic TensorFlow math and array operations"
   ]
  },
  {
   "cell_type": "code",
   "execution_count": 12,
   "metadata": {},
   "outputs": [
    {
     "name": "stdout",
     "output_type": "stream",
     "text": [
      "[ 3  4  6  8 12 14]\n"
     ]
    }
   ],
   "source": [
    "with tf.Graph().as_default():\n",
    "    # Create a six-element vector (1-D tensor).\n",
    "    primes = tf.constant([2, 3, 5, 7, 11, 13], dtype=tf.int32)\n",
    "\n",
    "    # Create another six-element vector. Each element in the vector will be\n",
    "    # initialized to 1. The first argument is the shape of the tensor (more\n",
    "    # on shapes below).\n",
    "    ones = tf.ones([6], dtype=tf.int32)\n",
    "\n",
    "    # Add the two vectors. The resulting tensor is a six-element vector.\n",
    "    just_beyond_primes = tf.add(primes, ones)\n",
    "\n",
    "    # Create a session to run the default graph.\n",
    "    with tf.Session() as sess:\n",
    "        print(just_beyond_primes.eval())"
   ]
  },
  {
   "cell_type": "code",
   "execution_count": 15,
   "metadata": {},
   "outputs": [
    {
     "name": "stdout",
     "output_type": "stream",
     "text": [
      "scalar has shape () and value:\n",
      " 0.0\n",
      "vector has shape (3,) and value:\n",
      " [0. 0. 0.]\n",
      "matrix has shape (2, 3) and value:\n",
      " [[0. 0. 0.]\n",
      " [0. 0. 0.]]\n"
     ]
    }
   ],
   "source": [
    "with tf.Graph().as_default():\n",
    "    # A scalar (0-D tensor).\n",
    "    scalar = tf.zeros([])\n",
    "\n",
    "    # A vector with 3 elements.\n",
    "    vector = tf.zeros([3])\n",
    "\n",
    "    # A matrix with 2 rows and 3 columns.\n",
    "    matrix = tf.zeros([2, 3])\n",
    "\n",
    "    with tf.Session() as sess:\n",
    "        print('scalar has shape', scalar.get_shape(), 'and value:\\n', scalar.eval())\n",
    "        print('vector has shape', vector.get_shape(), 'and value:\\n', vector.eval())\n",
    "        print('matrix has shape', matrix.get_shape(), 'and value:\\n', matrix.eval())"
   ]
  },
  {
   "cell_type": "code",
   "execution_count": 16,
   "metadata": {},
   "outputs": [
    {
     "name": "stdout",
     "output_type": "stream",
     "text": [
      "[ 3  4  6  8 12 14]\n"
     ]
    }
   ],
   "source": [
    "with tf.Graph().as_default():\n",
    "    # Create a six-element vector (1-D tensor).\n",
    "    primes = tf.constant([2, 3, 5, 7, 11, 13], dtype=tf.int32)\n",
    "\n",
    "    # Create a constant scalar with value 1.\n",
    "    ones = tf.constant(1, dtype=tf.int32)\n",
    "\n",
    "    # Add the two tensors. The resulting tensor is a six-element vector.\n",
    "    just_beyond_primes = tf.add(primes, ones)\n",
    "\n",
    "    with tf.Session() as sess:\n",
    "        print(just_beyond_primes.eval())"
   ]
  },
  {
   "cell_type": "code",
   "execution_count": 17,
   "metadata": {},
   "outputs": [
    {
     "name": "stdout",
     "output_type": "stream",
     "text": [
      "[[35 58]\n",
      " [35 33]\n",
      " [ 1 -4]]\n"
     ]
    }
   ],
   "source": [
    "with tf.Graph().as_default():\n",
    "    # Create a matrix (2-d tensor) with 3 rows and 4 columns.\n",
    "    x = tf.constant([[5, 2, 4, 3], [5, 1, 6, -2], [-1, 3, -1, -2]],\n",
    "                  dtype=tf.int32)\n",
    "\n",
    "    # Create a matrix with 4 rows and 2 columns.\n",
    "    y = tf.constant([[2, 2], [3, 5], [4, 5], [1, 6]], dtype=tf.int32)\n",
    "\n",
    "    # Multiply `x` by `y`. \n",
    "    # The resulting matrix will have 3 rows and 2 columns.\n",
    "    matrix_multiply_result = tf.matmul(x, y)\n",
    "\n",
    "    with tf.Session() as sess:\n",
    "        print(matrix_multiply_result.eval())"
   ]
  },
  {
   "cell_type": "code",
   "execution_count": 18,
   "metadata": {},
   "outputs": [
    {
     "name": "stdout",
     "output_type": "stream",
     "text": [
      "Original matrix (8x2):\n",
      "[[ 1  2]\n",
      " [ 3  4]\n",
      " [ 5  6]\n",
      " [ 7  8]\n",
      " [ 9 10]\n",
      " [11 12]\n",
      " [13 14]\n",
      " [15 16]]\n",
      "Reshaped matrix (2x8):\n",
      "[[ 1  2  3  4  5  6  7  8]\n",
      " [ 9 10 11 12 13 14 15 16]]\n",
      "Reshaped matrix (4x4):\n",
      "[[ 1  2  3  4]\n",
      " [ 5  6  7  8]\n",
      " [ 9 10 11 12]\n",
      " [13 14 15 16]]\n"
     ]
    }
   ],
   "source": [
    "with tf.Graph().as_default():\n",
    "    # Create an 8x2 matrix (2-D tensor).\n",
    "    matrix = tf.constant([[1,2], [3,4], [5,6], [7,8],\n",
    "                        [9,10], [11,12], [13, 14], [15,16]], dtype=tf.int32)\n",
    "\n",
    "    # Reshape the 8x2 matrix into a 2x8 matrix.\n",
    "    reshaped_2x8_matrix = tf.reshape(matrix, [2,8])\n",
    "\n",
    "    # Reshape the 8x2 matrix into a 4x4 matrix\n",
    "    reshaped_4x4_matrix = tf.reshape(matrix, [4,4])\n",
    "\n",
    "    with tf.Session() as sess:\n",
    "        print(\"Original matrix (8x2):\")\n",
    "        print(matrix.eval())\n",
    "        print(\"Reshaped matrix (2x8):\")\n",
    "        print(reshaped_2x8_matrix.eval())\n",
    "        print(\"Reshaped matrix (4x4):\")\n",
    "        print(reshaped_4x4_matrix.eval())"
   ]
  },
  {
   "cell_type": "code",
   "execution_count": 19,
   "metadata": {},
   "outputs": [
    {
     "name": "stdout",
     "output_type": "stream",
     "text": [
      "Original matrix (8x2):\n",
      "[[ 1  2]\n",
      " [ 3  4]\n",
      " [ 5  6]\n",
      " [ 7  8]\n",
      " [ 9 10]\n",
      " [11 12]\n",
      " [13 14]\n",
      " [15 16]]\n",
      "Reshaped 3-D tensor (2x2x4):\n",
      "[[[ 1  2  3  4]\n",
      "  [ 5  6  7  8]]\n",
      "\n",
      " [[ 9 10 11 12]\n",
      "  [13 14 15 16]]]\n",
      "1-D vector:\n",
      "[ 1  2  3  4  5  6  7  8  9 10 11 12 13 14 15 16]\n"
     ]
    }
   ],
   "source": [
    "with tf.Graph().as_default():\n",
    "    # Create an 8x2 matrix (2-D tensor).\n",
    "    matrix = tf.constant([[1,2], [3,4], [5,6], [7,8],\n",
    "                        [9,10], [11,12], [13, 14], [15,16]], dtype=tf.int32)\n",
    "\n",
    "    # Reshape the 8x2 matrix into a 3-D 2x2x4 tensor.\n",
    "    reshaped_2x2x4_tensor = tf.reshape(matrix, [2,2,4])\n",
    "\n",
    "    # Reshape the 8x2 matrix into a 1-D 16-element tensor.\n",
    "    one_dimensional_vector = tf.reshape(matrix, [16])\n",
    "\n",
    "    with tf.Session() as sess:\n",
    "        print(\"Original matrix (8x2):\")\n",
    "        print(matrix.eval())\n",
    "        print(\"Reshaped 3-D tensor (2x2x4):\")\n",
    "        print(reshaped_2x2x4_tensor.eval())\n",
    "        print(\"1-D vector:\")\n",
    "        print(one_dimensional_vector.eval())"
   ]
  },
  {
   "cell_type": "markdown",
   "metadata": {},
   "source": [
    "### Exercise #1: Reshape two tensors in order to multiply them.\n",
    "\n",
    "The following two vectors are incompatible for matrix multiplication:\n",
    "\n",
    "  *  `a = tf.constant([5, 3, 2, 7, 1, 4])`\n",
    "  *  `b = tf.constant([4, 6, 3])`\n",
    "\n",
    "Reshape these vectors into compatible operands for matrix multiplication.\n",
    "Then, invoke a matrix multiplication operation on the reshaped tensors."
   ]
  },
  {
   "cell_type": "code",
   "execution_count": 29,
   "metadata": {},
   "outputs": [
    {
     "name": "stdout",
     "output_type": "stream",
     "text": [
      "Answer\n",
      "[[44]\n",
      " [46]]\n",
      "[5 3 2 7 1 4]\n"
     ]
    }
   ],
   "source": [
    "with tf.Graph().as_default():\n",
    "    # Create an 8x2 matrix (2-D tensor).\n",
    "    a = tf.constant([5,3,2,7,1,4], dtype=tf.int32)\n",
    "    b = tf.constant([4,6,3], dtype=tf.int32)\n",
    "\n",
    "    reshaped_a = tf.reshape(a, [2,3])\n",
    "    reshaped_b = tf.reshape(b, [3,1])\n",
    "    \n",
    "    multi_ab = tf.matmul(reshaped_a,reshaped_b)\n",
    "\n",
    "    with tf.Session() as sess:\n",
    "        print(\"Answer\")\n",
    "        print(multi_ab.eval())"
   ]
  },
  {
   "cell_type": "code",
   "execution_count": null,
   "metadata": {},
   "outputs": [],
   "source": []
  }
 ],
 "metadata": {
  "kernelspec": {
   "display_name": "Python 3",
   "language": "python",
   "name": "python3"
  },
  "language_info": {
   "codemirror_mode": {
    "name": "ipython",
    "version": 3
   },
   "file_extension": ".py",
   "mimetype": "text/x-python",
   "name": "python",
   "nbconvert_exporter": "python",
   "pygments_lexer": "ipython3",
   "version": "3.6.1"
  }
 },
 "nbformat": 4,
 "nbformat_minor": 2
}
